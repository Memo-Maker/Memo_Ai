{
 "cells": [
  {
   "cell_type": "markdown",
   "metadata": {},
   "source": [
    "# Install dependencies"
   ]
  },
  {
   "cell_type": "code",
   "execution_count": 2,
   "metadata": {},
   "outputs": [
    {
     "name": "stderr",
     "output_type": "stream",
     "text": [
      "'brew'��(��) ���� �Ǵ� �ܺ� ����, ������ �� �ִ� ���α׷�, �Ǵ�\n",
      "��ġ ������ �ƴմϴ�.\n",
      "'brew'��(��) ���� �Ǵ� �ܺ� ����, ������ �� �ִ� ���α׷�, �Ǵ�\n",
      "��ġ ������ �ƴմϴ�.\n"
     ]
    },
    {
     "name": "stderr",
     "output_type": "stream",
     "text": [
      "'brew'��(��) ���� �Ǵ� �ܺ� ����, ������ �� �ִ� ���α׷�, �Ǵ�\n",
      "��ġ ������ �ƴմϴ�.\n"
     ]
    },
    {
     "name": "stdout",
     "output_type": "stream",
     "text": [
      "Requirement already satisfied: youtube-transcript-api==0.6.1 in c:\\users\\taeksin\\appdata\\local\\programs\\python\\python311\\lib\\site-packages (from -r requirements.txt (line 1)) (0.6.1)\n",
      "Requirement already satisfied: python-dotenv==1.0.0 in c:\\users\\taeksin\\appdata\\local\\programs\\python\\python311\\lib\\site-packages (from -r requirements.txt (line 2)) (1.0.0)\n",
      "Requirement already satisfied: openai==0.27.8 in c:\\users\\taeksin\\appdata\\local\\programs\\python\\python311\\lib\\site-packages (from -r requirements.txt (line 3)) (0.27.8)\n",
      "Requirement already satisfied: langchain==0.0.270 in c:\\users\\taeksin\\appdata\\local\\programs\\python\\python311\\lib\\site-packages (from -r requirements.txt (line 4)) (0.0.270)\n",
      "Requirement already satisfied: openai-whisper==20230314 in c:\\users\\taeksin\\appdata\\local\\programs\\python\\python311\\lib\\site-packages (from -r requirements.txt (line 5)) (20230314)\n",
      "Requirement already satisfied: yt-dlp==2023.12.30 in c:\\users\\taeksin\\appdata\\local\\programs\\python\\python311\\lib\\site-packages (from -r requirements.txt (line 6)) (2023.12.30)\n",
      "Requirement already satisfied: pydub==0.25.1 in c:\\users\\taeksin\\appdata\\local\\programs\\python\\python311\\lib\\site-packages (from -r requirements.txt (line 7)) (0.25.1)\n",
      "Requirement already satisfied: termcolor==2.3.0 in c:\\users\\taeksin\\appdata\\local\\programs\\python\\python311\\lib\\site-packages (from -r requirements.txt (line 8)) (2.3.0)\n",
      "Requirement already satisfied: tiktoken==0.3.1 in c:\\users\\taeksin\\appdata\\local\\programs\\python\\python311\\lib\\site-packages (from -r requirements.txt (line 9)) (0.3.1)\n",
      "Requirement already satisfied: requests in c:\\users\\taeksin\\appdata\\local\\programs\\python\\python311\\lib\\site-packages (from youtube-transcript-api==0.6.1->-r requirements.txt (line 1)) (2.31.0)\n",
      "Requirement already satisfied: tqdm in c:\\users\\taeksin\\appdata\\local\\programs\\python\\python311\\lib\\site-packages (from openai==0.27.8->-r requirements.txt (line 3)) (4.66.2)\n",
      "Requirement already satisfied: aiohttp in c:\\users\\taeksin\\appdata\\local\\programs\\python\\python311\\lib\\site-packages (from openai==0.27.8->-r requirements.txt (line 3)) (3.9.3)\n",
      "Requirement already satisfied: PyYAML>=5.3 in c:\\users\\taeksin\\appdata\\local\\programs\\python\\python311\\lib\\site-packages (from langchain==0.0.270->-r requirements.txt (line 4)) (6.0.1)\n",
      "Requirement already satisfied: SQLAlchemy<3,>=1.4 in c:\\users\\taeksin\\appdata\\local\\programs\\python\\python311\\lib\\site-packages (from langchain==0.0.270->-r requirements.txt (line 4)) (2.0.28)\n",
      "Requirement already satisfied: dataclasses-json<0.6.0,>=0.5.7 in c:\\users\\taeksin\\appdata\\local\\programs\\python\\python311\\lib\\site-packages (from langchain==0.0.270->-r requirements.txt (line 4)) (0.5.14)\n",
      "Requirement already satisfied: langsmith<0.1.0,>=0.0.21 in c:\\users\\taeksin\\appdata\\local\\programs\\python\\python311\\lib\\site-packages (from langchain==0.0.270->-r requirements.txt (line 4)) (0.0.92)\n",
      "Requirement already satisfied: numexpr<3.0.0,>=2.8.4 in c:\\users\\taeksin\\appdata\\local\\programs\\python\\python311\\lib\\site-packages (from langchain==0.0.270->-r requirements.txt (line 4)) (2.9.0)\n",
      "Requirement already satisfied: numpy<2,>=1 in c:\\users\\taeksin\\appdata\\local\\programs\\python\\python311\\lib\\site-packages (from langchain==0.0.270->-r requirements.txt (line 4)) (1.25.1)\n",
      "Requirement already satisfied: pydantic<3,>=1 in c:\\users\\taeksin\\appdata\\local\\programs\\python\\python311\\lib\\site-packages (from langchain==0.0.270->-r requirements.txt (line 4)) (2.6.4)\n",
      "Requirement already satisfied: tenacity<9.0.0,>=8.1.0 in c:\\users\\taeksin\\appdata\\local\\programs\\python\\python311\\lib\\site-packages (from langchain==0.0.270->-r requirements.txt (line 4)) (8.2.3)\n",
      "Requirement already satisfied: numba in c:\\users\\taeksin\\appdata\\local\\programs\\python\\python311\\lib\\site-packages (from openai-whisper==20230314->-r requirements.txt (line 5)) (0.59.0)\n",
      "Requirement already satisfied: torch in c:\\users\\taeksin\\appdata\\local\\programs\\python\\python311\\lib\\site-packages (from openai-whisper==20230314->-r requirements.txt (line 5)) (2.2.1)\n",
      "Requirement already satisfied: more-itertools in c:\\users\\taeksin\\appdata\\local\\programs\\python\\python311\\lib\\site-packages (from openai-whisper==20230314->-r requirements.txt (line 5)) (10.2.0)\n",
      "Requirement already satisfied: ffmpeg-python==0.2.0 in c:\\users\\taeksin\\appdata\\local\\programs\\python\\python311\\lib\\site-packages (from openai-whisper==20230314->-r requirements.txt (line 5)) (0.2.0)\n",
      "Requirement already satisfied: mutagen in c:\\users\\taeksin\\appdata\\local\\programs\\python\\python311\\lib\\site-packages (from yt-dlp==2023.12.30->-r requirements.txt (line 6)) (1.47.0)\n",
      "Requirement already satisfied: pycryptodomex in c:\\users\\taeksin\\appdata\\local\\programs\\python\\python311\\lib\\site-packages (from yt-dlp==2023.12.30->-r requirements.txt (line 6)) (3.20.0)\n",
      "Requirement already satisfied: certifi in c:\\users\\taeksin\\appdata\\local\\programs\\python\\python311\\lib\\site-packages (from yt-dlp==2023.12.30->-r requirements.txt (line 6)) (2023.5.7)\n",
      "Requirement already satisfied: urllib3<3,>=1.26.17 in c:\\users\\taeksin\\appdata\\local\\programs\\python\\python311\\lib\\site-packages (from yt-dlp==2023.12.30->-r requirements.txt (line 6)) (2.2.1)\n",
      "Requirement already satisfied: websockets>=12.0 in c:\\users\\taeksin\\appdata\\local\\programs\\python\\python311\\lib\\site-packages (from yt-dlp==2023.12.30->-r requirements.txt (line 6)) (12.0)\n",
      "Requirement already satisfied: brotli in c:\\users\\taeksin\\appdata\\local\\programs\\python\\python311\\lib\\site-packages (from yt-dlp==2023.12.30->-r requirements.txt (line 6)) (1.1.0)\n",
      "Requirement already satisfied: regex>=2022.1.18 in c:\\users\\taeksin\\appdata\\local\\programs\\python\\python311\\lib\\site-packages (from tiktoken==0.3.1->-r requirements.txt (line 9)) (2023.12.25)\n",
      "Requirement already satisfied: future in c:\\users\\taeksin\\appdata\\local\\programs\\python\\python311\\lib\\site-packages (from ffmpeg-python==0.2.0->openai-whisper==20230314->-r requirements.txt (line 5)) (1.0.0)\n",
      "Requirement already satisfied: aiosignal>=1.1.2 in c:\\users\\taeksin\\appdata\\local\\programs\\python\\python311\\lib\\site-packages (from aiohttp->openai==0.27.8->-r requirements.txt (line 3)) (1.3.1)\n",
      "Requirement already satisfied: attrs>=17.3.0 in c:\\users\\taeksin\\appdata\\local\\programs\\python\\python311\\lib\\site-packages (from aiohttp->openai==0.27.8->-r requirements.txt (line 3)) (23.1.0)\n",
      "Requirement already satisfied: frozenlist>=1.1.1 in c:\\users\\taeksin\\appdata\\local\\programs\\python\\python311\\lib\\site-packages (from aiohttp->openai==0.27.8->-r requirements.txt (line 3)) (1.4.1)\n",
      "Requirement already satisfied: multidict<7.0,>=4.5 in c:\\users\\taeksin\\appdata\\local\\programs\\python\\python311\\lib\\site-packages (from aiohttp->openai==0.27.8->-r requirements.txt (line 3)) (6.0.5)\n",
      "Requirement already satisfied: yarl<2.0,>=1.0 in c:\\users\\taeksin\\appdata\\local\\programs\\python\\python311\\lib\\site-packages (from aiohttp->openai==0.27.8->-r requirements.txt (line 3)) (1.9.4)\n",
      "Requirement already satisfied: marshmallow<4.0.0,>=3.18.0 in c:\\users\\taeksin\\appdata\\local\\programs\\python\\python311\\lib\\site-packages (from dataclasses-json<0.6.0,>=0.5.7->langchain==0.0.270->-r requirements.txt (line 4)) (3.21.1)\n",
      "Requirement already satisfied: typing-inspect<1,>=0.4.0 in c:\\users\\taeksin\\appdata\\local\\programs\\python\\python311\\lib\\site-packages (from dataclasses-json<0.6.0,>=0.5.7->langchain==0.0.270->-r requirements.txt (line 4)) (0.9.0)\n",
      "Requirement already satisfied: annotated-types>=0.4.0 in c:\\users\\taeksin\\appdata\\local\\programs\\python\\python311\\lib\\site-packages (from pydantic<3,>=1->langchain==0.0.270->-r requirements.txt (line 4)) (0.6.0)\n",
      "Requirement already satisfied: pydantic-core==2.16.3 in c:\\users\\taeksin\\appdata\\local\\programs\\python\\python311\\lib\\site-packages (from pydantic<3,>=1->langchain==0.0.270->-r requirements.txt (line 4)) (2.16.3)\n",
      "Requirement already satisfied: typing-extensions>=4.6.1 in c:\\users\\taeksin\\appdata\\local\\programs\\python\\python311\\lib\\site-packages (from pydantic<3,>=1->langchain==0.0.270->-r requirements.txt (line 4)) (4.10.0)\n",
      "Requirement already satisfied: charset-normalizer<4,>=2 in c:\\users\\taeksin\\appdata\\local\\programs\\python\\python311\\lib\\site-packages (from requests->youtube-transcript-api==0.6.1->-r requirements.txt (line 1)) (3.2.0)\n",
      "Requirement already satisfied: idna<4,>=2.5 in c:\\users\\taeksin\\appdata\\local\\programs\\python\\python311\\lib\\site-packages (from requests->youtube-transcript-api==0.6.1->-r requirements.txt (line 1)) (3.4)\n",
      "Requirement already satisfied: greenlet!=0.4.17 in c:\\users\\taeksin\\appdata\\local\\programs\\python\\python311\\lib\\site-packages (from SQLAlchemy<3,>=1.4->langchain==0.0.270->-r requirements.txt (line 4)) (3.0.3)\n",
      "Requirement already satisfied: llvmlite<0.43,>=0.42.0dev0 in c:\\users\\taeksin\\appdata\\local\\programs\\python\\python311\\lib\\site-packages (from numba->openai-whisper==20230314->-r requirements.txt (line 5)) (0.42.0)\n",
      "Requirement already satisfied: filelock in c:\\users\\taeksin\\appdata\\local\\programs\\python\\python311\\lib\\site-packages (from torch->openai-whisper==20230314->-r requirements.txt (line 5)) (3.13.1)\n",
      "Requirement already satisfied: sympy in c:\\users\\taeksin\\appdata\\local\\programs\\python\\python311\\lib\\site-packages (from torch->openai-whisper==20230314->-r requirements.txt (line 5)) (1.12)\n",
      "Requirement already satisfied: networkx in c:\\users\\taeksin\\appdata\\local\\programs\\python\\python311\\lib\\site-packages (from torch->openai-whisper==20230314->-r requirements.txt (line 5)) (3.2.1)\n",
      "Requirement already satisfied: jinja2 in c:\\users\\taeksin\\appdata\\local\\programs\\python\\python311\\lib\\site-packages (from torch->openai-whisper==20230314->-r requirements.txt (line 5)) (3.1.3)\n",
      "Requirement already satisfied: fsspec in c:\\users\\taeksin\\appdata\\local\\programs\\python\\python311\\lib\\site-packages (from torch->openai-whisper==20230314->-r requirements.txt (line 5)) (2024.3.1)\n",
      "Requirement already satisfied: colorama in c:\\users\\taeksin\\appdata\\local\\programs\\python\\python311\\lib\\site-packages (from tqdm->openai==0.27.8->-r requirements.txt (line 3)) (0.4.6)\n",
      "Requirement already satisfied: packaging>=17.0 in c:\\users\\taeksin\\appdata\\local\\programs\\python\\python311\\lib\\site-packages (from marshmallow<4.0.0,>=3.18.0->dataclasses-json<0.6.0,>=0.5.7->langchain==0.0.270->-r requirements.txt (line 4)) (23.2)\n",
      "Requirement already satisfied: mypy-extensions>=0.3.0 in c:\\users\\taeksin\\appdata\\local\\programs\\python\\python311\\lib\\site-packages (from typing-inspect<1,>=0.4.0->dataclasses-json<0.6.0,>=0.5.7->langchain==0.0.270->-r requirements.txt (line 4)) (1.0.0)\n",
      "Requirement already satisfied: MarkupSafe>=2.0 in c:\\users\\taeksin\\appdata\\local\\programs\\python\\python311\\lib\\site-packages (from jinja2->torch->openai-whisper==20230314->-r requirements.txt (line 5)) (2.1.5)\n",
      "Requirement already satisfied: mpmath>=0.19 in c:\\users\\taeksin\\appdata\\local\\programs\\python\\python311\\lib\\site-packages (from sympy->torch->openai-whisper==20230314->-r requirements.txt (line 5)) (1.3.0)\n"
     ]
    }
   ],
   "source": [
    "# Install libav and ffmpeg. \n",
    "! brew uninstall librist --ignore-dependencies\n",
    "! brew uninstall mbedtls --ignore-dependencies\n",
    "! brew reinstall ffmpeg\n",
    "\n",
    "\n",
    "# For linux (aptitude)\n",
    "# apt-get install libav-tools libavcodec-extra ffmpeg\n",
    "\n",
    "# install package \n",
    "! pip install -r requirements.txt"
   ]
  }
 ],
 "metadata": {
  "kernelspec": {
   "display_name": "venvAI",
   "language": "python",
   "name": "python3"
  },
  "language_info": {
   "codemirror_mode": {
    "name": "ipython",
    "version": 3
   },
   "file_extension": ".py",
   "mimetype": "text/x-python",
   "name": "python",
   "nbconvert_exporter": "python",
   "pygments_lexer": "ipython3",
   "version": "3.11.4"
  },
  "orig_nbformat": 4
 },
 "nbformat": 4,
 "nbformat_minor": 2
}
